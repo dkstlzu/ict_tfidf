{
 "cells": [
  {
   "cell_type": "code",
   "execution_count": 2,
   "metadata": {
    "scrolled": true
   },
   "outputs": [
    {
     "ename": "MemoryError",
     "evalue": "Unable to allocate 1.17 GiB for an array with shape (1437, 109131) and data type float64",
     "output_type": "error",
     "traceback": [
      "\u001b[1;31m---------------------------------------------------------------------------\u001b[0m",
      "\u001b[1;31mMemoryError\u001b[0m                               Traceback (most recent call last)",
      "\u001b[1;32m<ipython-input-2-c72c9d25002d>\u001b[0m in \u001b[0;36m<module>\u001b[1;34m\u001b[0m\n\u001b[1;32m----> 1\u001b[1;33m \u001b[1;32mimport\u001b[0m \u001b[0mrun\u001b[0m\u001b[1;33m\u001b[0m\u001b[1;33m\u001b[0m\u001b[0m\n\u001b[0m",
      "\u001b[1;32m~\\Desktop\\study\\Projects\\main\\api\\ict_tfidf\\run.py\u001b[0m in \u001b[0;36m<module>\u001b[1;34m\u001b[0m\n\u001b[0;32m      9\u001b[0m \u001b[1;31m# os.chdir(os.path.join(os.getcwd(),\"nlp\"))\u001b[0m\u001b[1;33m\u001b[0m\u001b[1;33m\u001b[0m\u001b[1;33m\u001b[0m\u001b[0m\n\u001b[0;32m     10\u001b[0m \u001b[1;31m# print(tfidf.top10([sys.argv[1], sys.argv[2]], sys.argv[3], sys.argv[4]))\u001b[0m\u001b[1;33m\u001b[0m\u001b[1;33m\u001b[0m\u001b[1;33m\u001b[0m\u001b[0m\n\u001b[1;32m---> 11\u001b[1;33m \u001b[0mprint\u001b[0m\u001b[1;33m(\u001b[0m\u001b[0mtfidf\u001b[0m\u001b[1;33m.\u001b[0m\u001b[0mtop10\u001b[0m\u001b[1;33m(\u001b[0m\u001b[0mfile\u001b[0m\u001b[1;33m,\u001b[0m \u001b[1;34m'손해배상(기)'\u001b[0m\u001b[1;33m,\u001b[0m \u001b[1;34m'cos'\u001b[0m\u001b[1;33m)\u001b[0m\u001b[1;33m)\u001b[0m\u001b[1;33m\u001b[0m\u001b[1;33m\u001b[0m\u001b[0m\n\u001b[0m",
      "\u001b[1;32m~\\Desktop\\study\\Projects\\main\\api\\ict_tfidf\\tfidf.py\u001b[0m in \u001b[0;36mtop10\u001b[1;34m(data, case_name, method, Print)\u001b[0m\n\u001b[0;32m    275\u001b[0m     \u001b[0msummary_simil\u001b[0m \u001b[1;33m=\u001b[0m \u001b[0msimilarity_with_db\u001b[0m\u001b[1;33m(\u001b[0m\u001b[0mdata\u001b[0m\u001b[1;33m[\u001b[0m\u001b[1;36m0\u001b[0m\u001b[1;33m]\u001b[0m\u001b[1;33m,\u001b[0m \u001b[0mcase_name\u001b[0m\u001b[1;33m,\u001b[0m \u001b[0mmethod\u001b[0m\u001b[1;33m,\u001b[0m \u001b[1;34m'Summary'\u001b[0m\u001b[1;33m,\u001b[0m \u001b[0mPrint\u001b[0m\u001b[1;33m)\u001b[0m\u001b[1;33m\u001b[0m\u001b[1;33m\u001b[0m\u001b[0m\n\u001b[0;32m    276\u001b[0m     \u001b[0mjudgement_simil\u001b[0m \u001b[1;33m=\u001b[0m \u001b[0msimilarity_with_db\u001b[0m\u001b[1;33m(\u001b[0m\u001b[0mdata\u001b[0m\u001b[1;33m[\u001b[0m\u001b[1;36m1\u001b[0m\u001b[1;33m]\u001b[0m\u001b[1;33m,\u001b[0m \u001b[0mcase_name\u001b[0m\u001b[1;33m,\u001b[0m \u001b[0mmethod\u001b[0m\u001b[1;33m,\u001b[0m \u001b[1;34m'Judgement'\u001b[0m\u001b[1;33m,\u001b[0m \u001b[0mPrint\u001b[0m\u001b[1;33m)\u001b[0m\u001b[1;33m\u001b[0m\u001b[1;33m\u001b[0m\u001b[0m\n\u001b[1;32m--> 277\u001b[1;33m     \u001b[0mcontent_simil\u001b[0m \u001b[1;33m=\u001b[0m \u001b[0msimilarity_with_db\u001b[0m\u001b[1;33m(\u001b[0m\u001b[0mdata\u001b[0m\u001b[1;33m[\u001b[0m\u001b[1;36m1\u001b[0m\u001b[1;33m]\u001b[0m\u001b[1;33m,\u001b[0m \u001b[0mcase_name\u001b[0m\u001b[1;33m,\u001b[0m \u001b[0mmethod\u001b[0m\u001b[1;33m,\u001b[0m \u001b[1;34m'Content'\u001b[0m\u001b[1;33m,\u001b[0m \u001b[0mPrint\u001b[0m\u001b[1;33m)\u001b[0m\u001b[1;33m\u001b[0m\u001b[1;33m\u001b[0m\u001b[0m\n\u001b[0m\u001b[0;32m    278\u001b[0m     \u001b[0mtfidf_data\u001b[0m \u001b[1;33m=\u001b[0m \u001b[0mdo\u001b[0m\u001b[1;33m(\u001b[0m\u001b[0mload\u001b[0m\u001b[1;33m(\u001b[0m\u001b[1;34m'tfidf_model.pk'\u001b[0m\u001b[1;33m)\u001b[0m\u001b[1;33m,\u001b[0m \u001b[0mdata\u001b[0m\u001b[1;33m[\u001b[0m\u001b[1;36m0\u001b[0m\u001b[1;33m]\u001b[0m \u001b[1;33m+\u001b[0m \u001b[0mdata\u001b[0m\u001b[1;33m[\u001b[0m\u001b[1;36m1\u001b[0m\u001b[1;33m]\u001b[0m\u001b[1;33m)\u001b[0m\u001b[1;33m\u001b[0m\u001b[1;33m\u001b[0m\u001b[0m\n\u001b[0;32m    279\u001b[0m \u001b[1;33m\u001b[0m\u001b[0m\n",
      "\u001b[1;32m~\\Desktop\\study\\Projects\\main\\api\\ict_tfidf\\tfidf.py\u001b[0m in \u001b[0;36msimilarity_with_db\u001b[1;34m(data, case_name, method, table, Print)\u001b[0m\n\u001b[0;32m    248\u001b[0m \u001b[1;33m\u001b[0m\u001b[0m\n\u001b[0;32m    249\u001b[0m     \u001b[1;31m# matrix연산을 위해 matrix로 type을 변경\u001b[0m\u001b[1;33m\u001b[0m\u001b[1;33m\u001b[0m\u001b[1;33m\u001b[0m\u001b[0m\n\u001b[1;32m--> 250\u001b[1;33m     \u001b[0mdb_data_matrix\u001b[0m \u001b[1;33m=\u001b[0m \u001b[0mnp\u001b[0m\u001b[1;33m.\u001b[0m\u001b[0mmatrix\u001b[0m\u001b[1;33m(\u001b[0m\u001b[0mweights\u001b[0m\u001b[1;33m)\u001b[0m\u001b[1;33m\u001b[0m\u001b[1;33m\u001b[0m\u001b[0m\n\u001b[0m\u001b[0;32m    251\u001b[0m \u001b[1;33m\u001b[0m\u001b[0m\n\u001b[0;32m    252\u001b[0m     \u001b[1;31m# 유사도를 분석\u001b[0m\u001b[1;33m\u001b[0m\u001b[1;33m\u001b[0m\u001b[1;33m\u001b[0m\u001b[0m\n",
      "\u001b[1;32m~\\Desktop\\study\\Projects\\main\\venv\\lib\\site-packages\\numpy\\matrixlib\\defmatrix.py\u001b[0m in \u001b[0;36m__new__\u001b[1;34m(subtype, data, dtype, copy)\u001b[0m\n\u001b[0;32m    143\u001b[0m \u001b[1;33m\u001b[0m\u001b[0m\n\u001b[0;32m    144\u001b[0m         \u001b[1;31m# now convert data to an array\u001b[0m\u001b[1;33m\u001b[0m\u001b[1;33m\u001b[0m\u001b[1;33m\u001b[0m\u001b[0m\n\u001b[1;32m--> 145\u001b[1;33m         \u001b[0marr\u001b[0m \u001b[1;33m=\u001b[0m \u001b[0mN\u001b[0m\u001b[1;33m.\u001b[0m\u001b[0marray\u001b[0m\u001b[1;33m(\u001b[0m\u001b[0mdata\u001b[0m\u001b[1;33m,\u001b[0m \u001b[0mdtype\u001b[0m\u001b[1;33m=\u001b[0m\u001b[0mdtype\u001b[0m\u001b[1;33m,\u001b[0m \u001b[0mcopy\u001b[0m\u001b[1;33m=\u001b[0m\u001b[0mcopy\u001b[0m\u001b[1;33m)\u001b[0m\u001b[1;33m\u001b[0m\u001b[1;33m\u001b[0m\u001b[0m\n\u001b[0m\u001b[0;32m    146\u001b[0m         \u001b[0mndim\u001b[0m \u001b[1;33m=\u001b[0m \u001b[0marr\u001b[0m\u001b[1;33m.\u001b[0m\u001b[0mndim\u001b[0m\u001b[1;33m\u001b[0m\u001b[1;33m\u001b[0m\u001b[0m\n\u001b[0;32m    147\u001b[0m         \u001b[0mshape\u001b[0m \u001b[1;33m=\u001b[0m \u001b[0marr\u001b[0m\u001b[1;33m.\u001b[0m\u001b[0mshape\u001b[0m\u001b[1;33m\u001b[0m\u001b[1;33m\u001b[0m\u001b[0m\n",
      "\u001b[1;31mMemoryError\u001b[0m: Unable to allocate 1.17 GiB for an array with shape (1437, 109131) and data type float64"
     ]
    }
   ],
   "source": [
    "import run"
   ]
  },
  {
   "cell_type": "code",
   "execution_count": 1,
   "metadata": {},
   "outputs": [],
   "source": [
    "from tfidf import top10 as top\n",
    "import tfidf\n",
    "import os\n",
    "import numpy as np"
   ]
  },
  {
   "cell_type": "code",
   "execution_count": 2,
   "metadata": {},
   "outputs": [],
   "source": [
    "def get_files(path):\n",
    "    file_list = os.listdir(path)\n",
    "    files = []\n",
    "    for file in file_list:\n",
    "        if 'total' in file:\n",
    "            file_list.remove(file)\n",
    "            continue\n",
    "        with open(path + '\\\\' + file, 'r') as data: \n",
    "            files.append(data.read())\n",
    "    return file_list, files"
   ]
  },
  {
   "cell_type": "code",
   "execution_count": 3,
   "metadata": {},
   "outputs": [],
   "source": [
    "file = []\n",
    "file.append(\"6 1. 피고는 원고에게 금OOO원 및 이에 대하여 o 사건 소광부본 송달 다운날부터 다 가는 날까지 1556회() 비율로 계산한 돈을 지급하라 2 소송비용은 패고가 부담한다. ,000 3. 제1항은 가집행 할수 있다. 라는 판결을 구합니다.\")\n",
    "file.append(\"10 1. 흰고는 피고에게 2000. D. D. 금000원을 대어하면서 2000. O. 00.이 번제 받기로 하였습니다. 2 그런데 피고는 위 대덕금 중 2000 0.갱 금000원, 2000 0,쟁 금OO만\")\n"
   ]
  },
  {
   "cell_type": "code",
   "execution_count": 4,
   "metadata": {
    "scrolled": true
   },
   "outputs": [
    {
     "name": "stderr",
     "output_type": "stream",
     "text": [
      "C:\\Users\\User\\Desktop\\study\\Projects\\main\\venv\\lib\\site-packages\\sklearn\\base.py:329: UserWarning: Trying to unpickle estimator TfidfTransformer from version 0.23.1 when using version 0.23.2. This might lead to breaking code or invalid results. Use at your own risk.\n",
      "  warnings.warn(\n",
      "C:\\Users\\User\\Desktop\\study\\Projects\\main\\venv\\lib\\site-packages\\sklearn\\base.py:329: UserWarning: Trying to unpickle estimator TfidfVectorizer from version 0.23.1 when using version 0.23.2. This might lead to breaking code or invalid results. Use at your own risk.\n",
      "  warnings.warn(\n"
     ]
    }
   ],
   "source": [
    "test_val = top(file, '손해배상(의)', 'cos')\n",
    "print(test_val)"
   ]
  },
  {
   "cell_type": "code",
   "execution_count": 6,
   "metadata": {
    "scrolled": true
   },
   "outputs": [
    {
     "data": {
      "text/plain": [
       "{'keywords': [array(['2000', '가집행', '구합니다', '하였습니다', '가는', '소송비용은', '날까지', '받기로',\n",
       "         '지급하라', '송달'], dtype='<U49')],\n",
       " 'ids': (array([ 68856,  68197, 194699,  68321, 183246, 177688, 168093, 171492,\n",
       "         150941,  82932]),\n",
       "  array([11.20235374,  9.78299702,  7.35289791,  6.40704713,  6.33380618,\n",
       "          6.32488628,  6.05875961,  5.87682881,  5.86153964,  5.46950155]))}"
      ]
     },
     "execution_count": 6,
     "metadata": {},
     "output_type": "execute_result"
    }
   ],
   "source": [
    "test_val"
   ]
  },
  {
   "cell_type": "code",
   "execution_count": 7,
   "metadata": {},
   "outputs": [
    {
     "name": "stdout",
     "output_type": "stream",
     "text": [
      "2000\n",
      "가집행\n",
      "구합니다\n",
      "하였습니다\n",
      "가는\n",
      "소송비용은\n",
      "날까지\n",
      "받기로\n",
      "지급하라\n",
      "송달\n"
     ]
    }
   ],
   "source": [
    "for d in test_val['keywords'][0]:\n",
    "    print(d)"
   ]
  },
  {
   "cell_type": "code",
   "execution_count": 22,
   "metadata": {},
   "outputs": [
    {
     "data": {
      "text/plain": [
       "154806"
      ]
     },
     "execution_count": 22,
     "metadata": {},
     "output_type": "execute_result"
    }
   ],
   "source": [
    "len(test_val['keywords'][0][0])"
   ]
  },
  {
   "cell_type": "code",
   "execution_count": 15,
   "metadata": {},
   "outputs": [],
   "source": [
    "def db_cursor():\n",
    "    host = \"ict.cor8kkyfcogd.ap-northeast-2.rds.amazonaws.com\"\n",
    "    port = 3306\n",
    "    username = \"admin\"\n",
    "    database = \"ict\"\n",
    "    password = \"48834883\"\n",
    "\n",
    "    try:\n",
    "        conn = pms.connect(host=host,user=username,password=password,db=database, port=port, use_unicode=True, charset=\"utf8\")\n",
    "        cursor=conn.cursor()\n",
    "    except:\n",
    "        print(\"연결 실패\")\n",
    "        return\n",
    "\n",
    "    return cursor\n"
   ]
  },
  {
   "cell_type": "code",
   "execution_count": 7,
   "metadata": {},
   "outputs": [],
   "source": [
    "ids_arr = tfidf.find_ids('손해배상(의)')"
   ]
  },
  {
   "cell_type": "code",
   "execution_count": 10,
   "metadata": {},
   "outputs": [
    {
     "data": {
      "text/plain": [
       "[64738,\n",
       " 67136,\n",
       " 67320,\n",
       " 67738,\n",
       " 67860,\n",
       " 68157,\n",
       " 68220,\n",
       " 68536,\n",
       " 68738,\n",
       " 68773,\n",
       " 69070,\n",
       " 69206,\n",
       " 69373,\n",
       " 69446,\n",
       " 79828,\n",
       " 80438,\n",
       " 80558,\n",
       " 81309,\n",
       " 81373,\n",
       " 81564,\n",
       " 81658,\n",
       " 81882,\n",
       " 82200,\n",
       " 82289,\n",
       " 82932,\n",
       " 83052,\n",
       " 83250,\n",
       " 83345,\n",
       " 83527,\n",
       " 83701,\n",
       " 83810,\n",
       " 84424,\n",
       " 84557,\n",
       " 84821,\n",
       " 84885,\n",
       " 85076,\n",
       " 85278,\n",
       " 85310,\n",
       " 85537,\n",
       " 85612,\n",
       " 126270,\n",
       " 127012,\n",
       " 133424,\n",
       " 133924,\n",
       " 138265,\n",
       " 139607,\n",
       " 140247,\n",
       " 142105,\n",
       " 142407,\n",
       " 142827,\n",
       " 143120,\n",
       " 143671,\n",
       " 144231,\n",
       " 144515,\n",
       " 145345,\n",
       " 146169,\n",
       " 146664,\n",
       " 146747,\n",
       " 147462,\n",
       " 149172,\n",
       " 149526,\n",
       " 157643,\n",
       " 157935,\n",
       " 159469,\n",
       " 159897,\n",
       " 160699,\n",
       " 162510,\n",
       " 163149,\n",
       " 165559,\n",
       " 166360,\n",
       " 167251,\n",
       " 167290,\n",
       " 168343,\n",
       " 170775,\n",
       " 170876,\n",
       " 171822,\n",
       " 171940,\n",
       " 172046,\n",
       " 172232,\n",
       " 172956,\n",
       " 173934,\n",
       " 174112,\n",
       " 176253,\n",
       " 177426,\n",
       " 177605,\n",
       " 177679,\n",
       " 178071,\n",
       " 179029,\n",
       " 179059,\n",
       " 179791,\n",
       " 179843,\n",
       " 182331,\n",
       " 182380,\n",
       " 183250,\n",
       " 184031,\n",
       " 184373,\n",
       " 185115,\n",
       " 185557,\n",
       " 186636,\n",
       " 187237,\n",
       " 187836,\n",
       " 190657,\n",
       " 190732,\n",
       " 191222,\n",
       " 191335,\n",
       " 191488,\n",
       " 191507,\n",
       " 191721,\n",
       " 192376,\n",
       " 192451,\n",
       " 193332,\n",
       " 193877,\n",
       " 194376,\n",
       " 194408,\n",
       " 194558,\n",
       " 194663,\n",
       " 194698,\n",
       " 195461,\n",
       " 199747,\n",
       " 203976,\n",
       " 204219,\n",
       " 204566,\n",
       " 205791,\n",
       " 206330,\n",
       " 208744,\n",
       " 209160,\n",
       " 210335,\n",
       " 210767]"
      ]
     },
     "execution_count": 10,
     "metadata": {},
     "output_type": "execute_result"
    }
   ],
   "source": [
    "ids_arr"
   ]
  },
  {
   "cell_type": "code",
   "execution_count": 25,
   "metadata": {},
   "outputs": [],
   "source": [
    "c = tfidf.db_cursor()\n",
    "a = tfidf.db_cursor()\n",
    "b = tfidf.db_cursor()"
   ]
  },
  {
   "cell_type": "code",
   "execution_count": 23,
   "metadata": {},
   "outputs": [],
   "source": [
    "vocab = tfidf.load('tfidf_vocab.pk')"
   ]
  },
  {
   "cell_type": "code",
   "execution_count": 25,
   "metadata": {},
   "outputs": [
    {
     "data": {
      "text/plain": [
       "154806"
      ]
     },
     "execution_count": 25,
     "metadata": {},
     "output_type": "execute_result"
    }
   ],
   "source": [
    "len(vocab)"
   ]
  },
  {
   "cell_type": "code",
   "execution_count": 4,
   "metadata": {},
   "outputs": [
    {
     "name": "stderr",
     "output_type": "stream",
     "text": [
      "C:\\Users\\User\\Desktop\\study\\Projects\\main\\venv\\lib\\site-packages\\sklearn\\base.py:329: UserWarning: Trying to unpickle estimator TfidfTransformer from version 0.23.1 when using version 0.23.2. This might lead to breaking code or invalid results. Use at your own risk.\n",
      "  warnings.warn(\n",
      "C:\\Users\\User\\Desktop\\study\\Projects\\main\\venv\\lib\\site-packages\\sklearn\\base.py:329: UserWarning: Trying to unpickle estimator TfidfVectorizer from version 0.23.1 when using version 0.23.2. This might lead to breaking code or invalid results. Use at your own risk.\n",
      "  warnings.warn(\n"
     ]
    }
   ],
   "source": [
    "tfidf_data = tfidf.do(tfidf.load('tfidf_model.pk'), file[0] + file[1])"
   ]
  },
  {
   "cell_type": "code",
   "execution_count": 5,
   "metadata": {},
   "outputs": [
    {
     "data": {
      "text/plain": [
       "154806"
      ]
     },
     "execution_count": 5,
     "metadata": {},
     "output_type": "execute_result"
    }
   ],
   "source": [
    "len(tfidf_data)"
   ]
  },
  {
   "cell_type": "code",
   "execution_count": 6,
   "metadata": {},
   "outputs": [
    {
     "data": {
      "text/plain": [
       "10"
      ]
     },
     "execution_count": 6,
     "metadata": {},
     "output_type": "execute_result"
    }
   ],
   "source": [
    "ind = tfidf.find_indexes(tfidf_data)\n",
    "len(ind)"
   ]
  },
  {
   "cell_type": "code",
   "execution_count": 7,
   "metadata": {},
   "outputs": [
    {
     "name": "stdout",
     "output_type": "stream",
     "text": [
      "469\n",
      "4359\n",
      "20931\n",
      "144312\n",
      "3347\n",
      "71235\n",
      "28122\n",
      "47902\n",
      "123568\n",
      "73136\n"
     ]
    }
   ],
   "source": [
    "for d in ind:\n",
    "    print(d)"
   ]
  },
  {
   "cell_type": "code",
   "execution_count": 8,
   "metadata": {},
   "outputs": [],
   "source": [
    "words = tfidf.tfidf_decode(ind)"
   ]
  },
  {
   "cell_type": "code",
   "execution_count": 9,
   "metadata": {},
   "outputs": [
    {
     "data": {
      "text/plain": [
       "array(['2000', '가집행', '구합니다', '하였습니다', '가는', '소송비용은', '날까지', '받기로',\n",
       "       '지급하라', '송달'], dtype='<U49')"
      ]
     },
     "execution_count": 9,
     "metadata": {},
     "output_type": "execute_result"
    }
   ],
   "source": [
    "words"
   ]
  },
  {
   "cell_type": "code",
   "execution_count": 4,
   "metadata": {},
   "outputs": [],
   "source": [
    "import numpy as np"
   ]
  },
  {
   "cell_type": "code",
   "execution_count": 5,
   "metadata": {},
   "outputs": [],
   "source": [
    "arr = np.array([0,2,3,4,0])\n",
    "mat = np.mat(arr)\n",
    "mat2 = np.matrix(arr)"
   ]
  },
  {
   "cell_type": "code",
   "execution_count": 8,
   "metadata": {},
   "outputs": [
    {
     "data": {
      "text/plain": [
       "matrix([[0, 2, 3, 4, 0]])"
      ]
     },
     "execution_count": 8,
     "metadata": {},
     "output_type": "execute_result"
    }
   ],
   "source": [
    "mat2"
   ]
  }
 ],
 "metadata": {
  "kernelspec": {
   "display_name": "nlp",
   "language": "python",
   "name": "venv"
  },
  "language_info": {
   "codemirror_mode": {
    "name": "ipython",
    "version": 3
   },
   "file_extension": ".py",
   "mimetype": "text/x-python",
   "name": "python",
   "nbconvert_exporter": "python",
   "pygments_lexer": "ipython3",
   "version": "3.8.5"
  }
 },
 "nbformat": 4,
 "nbformat_minor": 4
}
